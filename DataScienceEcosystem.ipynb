{
 "cells": [
  {
   "cell_type": "markdown",
   "id": "eb37b90c-e180-4b18-a764-7df04cf24d8a",
   "metadata": {},
   "source": [
    "# Data Science Tools and Ecosystem"
   ]
  },
  {
   "cell_type": "markdown",
   "id": "caba2883-b158-4dc6-bd06-1541e7dc8200",
   "metadata": {},
   "source": [
    "En este cuaderno, se resumen las herramientas y ecosistemas de ciencia de datos."
   ]
  },
  {
   "cell_type": "markdown",
   "id": "0b174764-91e5-4c13-a430-f3031fee99bc",
   "metadata": {},
   "source": [
    "**Objetivos:**\n",
    "- Crear un Jupyter Notebook\n",
    "- Insertar celdas de código y celdas markdown\n",
    "- Compartir notebook a través de Github"
   ]
  },
  {
   "cell_type": "markdown",
   "id": "92bd075d-d321-47b8-bdbc-fc2e8bda61ac",
   "metadata": {},
   "source": [
    "Algunos de los lenguajes populares que utilizan los científicos de datos son:\n",
    "- Python\n",
    "- R\n",
    "- SQL\n",
    "- Java\n",
    "- Julia"
   ]
  },
  {
   "cell_type": "markdown",
   "id": "a0d32f9a-8626-4dd8-be6d-028a67985937",
   "metadata": {},
   "source": [
    "Algunas de las bibliotecas comúnmente utilizadas por los científicos de datos incluyen:\n",
    "- Pandas\n",
    "- NumPy\n",
    "- Matplotlib\n",
    "- Scikit-learn\n",
    "- TensorFlow"
   ]
  },
  {
   "cell_type": "markdown",
   "id": "f92da31f-3583-44fa-abce-72bbb0fe5060",
   "metadata": {},
   "source": [
    "| Herrramientas de Ciencias de Datos|\n",
    "|----------------|\n",
    "| Jupyter        |\n",
    "| RStudio        |\n",
    "| Apache Spark   |"
   ]
  },
  {
   "cell_type": "markdown",
   "id": "e9cd5064-e089-4f9d-b365-c935b937f614",
   "metadata": {},
   "source": [
    "### A continuación, se presentan algunos ejemplos de evaluación de expresiones aritméticas en Python\n",
    "- Adición: `2 + 5 = 7`\n",
    "- Multiplicación: `3 * 4 = 12`"
   ]
  },
  {
   "cell_type": "code",
   "execution_count": 3,
   "id": "00085794-5ba4-4e35-9efe-ad8970b9f42d",
   "metadata": {},
   "outputs": [
    {
     "data": {
      "text/plain": [
       "17"
      ]
     },
     "execution_count": 3,
     "metadata": {},
     "output_type": "execute_result"
    }
   ],
   "source": [
    "# Esta es una expresión aritmética simple para multiplicar y luego sumar enteros\n",
    "result = (3*4)+5\n",
    "result"
   ]
  },
  {
   "cell_type": "code",
   "execution_count": 5,
   "id": "5223dc88-88a4-4e0d-be43-2e830c952370",
   "metadata": {},
   "outputs": [
    {
     "data": {
      "text/plain": [
       "3.3333333333333335"
      ]
     },
     "execution_count": 5,
     "metadata": {},
     "output_type": "execute_result"
    }
   ],
   "source": [
    "# Esto convertirá 200 minutos a horas dividiendo por 60\n",
    "minutos = 200\n",
    "horas = minutos / 60\n",
    "horas"
   ]
  },
  {
   "cell_type": "markdown",
   "id": "cbb273f4-85e4-47e0-ab51-f4cea5dc32c4",
   "metadata": {},
   "source": [
    "## Autor\n",
    "Marco Portilla Díaz"
   ]
  },
  {
   "cell_type": "markdown",
   "id": "9b412c7d-21df-44bd-bb6e-f64051176199",
   "metadata": {},
   "source": []
  }
 ],
 "metadata": {
  "kernelspec": {
   "display_name": "Python 3 (ipykernel)",
   "language": "python",
   "name": "python3"
  },
  "language_info": {
   "codemirror_mode": {
    "name": "ipython",
    "version": 3
   },
   "file_extension": ".py",
   "mimetype": "text/x-python",
   "name": "python",
   "nbconvert_exporter": "python",
   "pygments_lexer": "ipython3",
   "version": "3.11.9"
  }
 },
 "nbformat": 4,
 "nbformat_minor": 5
}
